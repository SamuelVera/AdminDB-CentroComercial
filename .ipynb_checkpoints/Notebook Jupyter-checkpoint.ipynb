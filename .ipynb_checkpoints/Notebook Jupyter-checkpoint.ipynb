{
 "cells": [
  {
   "cell_type": "markdown",
   "metadata": {},
   "source": [
    "# #Proyecto 1 Admin. Bases de Datos"
   ]
  },
  {
   "cell_type": "markdown",
   "metadata": {},
   "source": [
    "Importación de librerías"
   ]
  },
  {
   "cell_type": "code",
   "execution_count": 34,
   "metadata": {},
   "outputs": [],
   "source": [
    "import matplotlib\n",
    "import matplotlib.pyplot as plt\n",
    "matplotlib.use('TKAgg')\n",
    "import pandas as pd\n",
    "import psycopg2 as pg2\n",
    "import numpy as np\n",
    "import time as t\n",
    "from matplotlib.ticker import FuncFormatter"
   ]
  },
  {
   "cell_type": "markdown",
   "metadata": {},
   "source": [
    "Se inicializa la conexión con la DB"
   ]
  },
  {
   "cell_type": "code",
   "execution_count": 35,
   "metadata": {},
   "outputs": [],
   "source": [
    "conn = pg2.connect(host='localhost', dbname=\"sambilproyecto\", user=\"postgres\", password=\"1234\")\n",
    "cur = conn.cursor()"
   ]
  },
  {
   "cell_type": "markdown",
   "metadata": {},
   "source": [
    "Ahora unos resultados de vistas y gráficos:"
   ]
  },
  {
   "cell_type": "markdown",
   "metadata": {},
   "source": [
    "Vista Obligatoria 1: Porcentaje de ventas hecho a personas con smartphone y sin smartphone "
   ]
  },
  {
   "cell_type": "code",
   "execution_count": null,
   "metadata": {
    "scrolled": false
   },
   "outputs": [],
   "source": [
    "cur.execute('SELECT * FROM porcentajeventassmartphone;')\n",
    "\n",
    "data=cur.fetchone()\n",
    "labels=('Sin Smartphone ('+str(data[0])+'%)','Con Smartphone ('+str(data[1])+'%)')\n",
    "\n",
    "y_pos = np.arange(len(labels))\n",
    "\n",
    "plt.rcdefaults()\n",
    "fig, ax = plt.subplots(figsize=(4,2))\n",
    "\n",
    "ax.barh(y_pos, data, height=0.5, align='center', color=['#FF0000','#33FF00'])\n",
    "ax.set_yticks(y_pos)\n",
    "ax.set_yticklabels(labels)\n",
    "ax.invert_yaxis()  # labels read top-to-bottom\n",
    "ax.set_xlabel('Porcentaje (%)')\n",
    "ax.set_title('Ventas a clientes con Smartphone')\n",
    "\n",
    "df = pd.DataFrame([data], columns=('Sin Smartphone','Con Smartphone'))\n",
    "\n",
    "plt.show()\n",
    "\n",
    "df"
   ]
  },
  {
   "cell_type": "markdown",
   "metadata": {},
   "source": [
    "Vista Obligatoria 2: Top 5 personas que más tiempo han pasado en el centro comercial en el último mes."
   ]
  },
  {
   "cell_type": "code",
   "execution_count": null,
   "metadata": {
    "scrolled": true
   },
   "outputs": [],
   "source": [
    "cur.execute(\"SELECT * FROM top5mastiempo;\")\n",
    "data = cur.fetchall()\n",
    "\n",
    "labels=('id de Smartphone','Tiempo en el CC')\n",
    "df = pd.DataFrame(data)\n",
    "\n",
    "df"
   ]
  },
  {
   "cell_type": "markdown",
   "metadata": {},
   "source": [
    "Vista Extra 1: Top 5 franquicias cuyos han facturado una mayor cantidad de compras en el último mes."
   ]
  },
  {
   "cell_type": "code",
   "execution_count": null,
   "metadata": {
    "scrolled": true
   },
   "outputs": [],
   "source": [
    "cur.execute(\"SELECT * FROM top5franquiciasventas;\")\n",
    "data = cur.fetchall()\n",
    "\n",
    "label = ('Franquicia','Ventas Totales')\n",
    "x = np.arange(len(data))\n",
    "montos = []\n",
    "franquicias = []\n",
    "\n",
    "for val in data:\n",
    "    montos.append(val[1])\n",
    "    franquicias.append(val[0])\n",
    "\n",
    "def miles(x, pos):\n",
    "    return '%1.1f' % ( x * 1e-3 )\n",
    "\n",
    "formatter = FuncFormatter(miles)\n",
    "\n",
    "fig, ax = plt.subplots()\n",
    "\n",
    "ax.yaxis.set_major_formatter(formatter)\n",
    "plt.bar(x, montos)\n",
    "plt.xticks(x, franquicias)\n",
    "\n",
    "ax.set_xlabel('Franquicias')\n",
    "ax.set_ylabel('Monto (Miles de bolívares)')\n",
    "ax.set_title('Cinco Franquicias Con Mayores Montos En Ventas')\n",
    "\n",
    "plt.show()"
   ]
  },
  {
   "cell_type": "markdown",
   "metadata": {},
   "source": [
    "Vista Extra 2: Mostrar por sector cual es el cliente que más tiempo ha pasado en uno de los locales de ese sector."
   ]
  },
  {
   "cell_type": "code",
   "execution_count": null,
   "metadata": {
    "scrolled": true
   },
   "outputs": [],
   "source": [
    "cur.execute(\"SELECT * FROM mastiempoporsector;\")\n",
    "\n",
    "data = cur.fetchall()\n",
    "labels = ('Sector','Id Smartphone','Tiempo')\n",
    "df = pd.DataFrame(data, columns=labels)\n",
    "\n",
    "df"
   ]
  },
  {
   "cell_type": "markdown",
   "metadata": {},
   "source": [
    "Las siguientes tres vistas (3,4 y 5) funcionan mientras el script está en ejecución"
   ]
  },
  {
   "cell_type": "markdown",
   "metadata": {},
   "source": [
    "Vista Extra 3: Cantidad de clientes en el centro comercial.\n",
    "Vista Extra 4: Cantidad de clientes sentados en mesas de la feria y dentro de locales"
   ]
  },
  {
   "cell_type": "code",
   "execution_count": 56,
   "metadata": {
    "scrolled": true
   },
   "outputs": [
    {
     "data": {
      "image/png": "[encoded data removed]",
      "text/plain": [
       "<Figure size 432x288 with 1 Axes>"
      ]
     },
     "metadata": {
      "needs_background": "light"
     },
     "output_type": "display_data"
    }
   ],
   "source": [
    "def animated_bar():\n",
    "    \n",
    "    N = 3\n",
    "    cur.execute(\"SELECT * FROM smartphonesencc;\")\n",
    "    incc = cur.fetchone()[0]\n",
    "    \n",
    "    cur.execute(\"SELECT * FROM enccenmesaoenlocal;\")\n",
    "    \n",
    "    response = cur.fetchone()\n",
    "    inlocal = response[0]\n",
    "    inmesa = response[1]\n",
    "    \n",
    "    y = (incc, inlocal, inmesa)\n",
    "    plt.xticks(x, (str(y[0])+' En el CC',str(y[1])+' En un local',str(y[2])+' Sentado en una mesa'))\n",
    "    \n",
    "    plt.bar(range(N), y, width=0.7, align='center', color='#FF0000')\n",
    "        \n",
    "i = 0\n",
    "fig, ax = plt.subplots()\n",
    "x = np.arange(3)\n",
    "ax.set_ylabel('Cantidad de personas')\n",
    "plt.xticks(x, ('En el CC','En un local','Sentado en una mesa'))\n",
    "plt.show()\n",
    "\n",
    "while i < 120:\n",
    "    animated_bar()\n",
    "    i+=1\n",
    "    plt.pause(0.5)\n",
    "    ax.clear()"
   ]
  },
  {
   "cell_type": "markdown",
   "metadata": {},
   "source": [
    "Vista Extra 5: Cantidad de mesas ocupadas"
   ]
  },
  {
   "cell_type": "code",
   "execution_count": null,
   "metadata": {},
   "outputs": [],
   "source": [
    "cur.execute(\"SELECT * FROM cantidadmesasocupadas;\")\n",
    "data = cur.fetchall()\n",
    "labels = ('Mesas ocupadas')\n",
    "\n",
    "df = pd.DataFrame(data)\n",
    "\n",
    "df"
   ]
  },
  {
   "cell_type": "markdown",
   "metadata": {},
   "source": [
    "Vista Extra 6: Top 5 franquicias cuyos locales generen mayor flujo de clientes"
   ]
  },
  {
   "cell_type": "code",
   "execution_count": null,
   "metadata": {},
   "outputs": [],
   "source": [
    "cur.execute(\"SELECT * FROM top5localesflujopersonas;\")\n",
    "\n",
    "data = cur.fetchall()\n",
    "\n",
    "label = ('Franquicia','Flujo de personas')\n",
    "x = np.arange(len(data))\n",
    "flujo = []\n",
    "franquicias = []\n",
    "\n",
    "for val in data:\n",
    "    flujo.append(val[1])\n",
    "    franquicias.append(val[0]+'\\n('+str(val[1])+')')\n",
    "\n",
    "fig, ax = plt.subplots()\n",
    "\n",
    "plt.bar(x, flujo)\n",
    "plt.xticks(x, franquicias)\n",
    "\n",
    "ax.set_xlabel('Franquicias')\n",
    "ax.set_ylabel('Flujo de personas')\n",
    "ax.set_title('Top 5 franquicias que generan mayor flujo de personas')\n",
    "\n",
    "plt.show()"
   ]
  },
  {
   "cell_type": "code",
   "execution_count": null,
   "metadata": {},
   "outputs": [],
   "source": []
  }
 ],
 "metadata": {
  "kernelspec": {
   "display_name": "Python 3",
   "language": "python",
   "name": "python3"
  },
  "language_info": {
   "codemirror_mode": {
    "name": "ipython",
    "version": 3
   },
   "file_extension": ".py",
   "mimetype": "text/x-python",
   "name": "python",
   "nbconvert_exporter": "python",
   "pygments_lexer": "ipython3",
   "version": "3.7.3"
  }
 },
 "nbformat": 4,
 "nbformat_minor": 2
}
