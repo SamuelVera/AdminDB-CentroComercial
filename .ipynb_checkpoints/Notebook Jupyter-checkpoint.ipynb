{
 "cells": [
  {
   "cell_type": "markdown",
   "metadata": {},
   "source": [
    "# #Proyecto 1 Admin. Bases de Datos"
   ]
  },
  {
   "cell_type": "markdown",
   "metadata": {},
   "source": [
    "Importación de librerías"
   ]
  },
  {
   "cell_type": "code",
   "execution_count": null,
   "metadata": {},
   "outputs": [],
   "source": [
    "import matplotlib\n",
    "import matplotlib.pyplot as plt\n",
    "matplotlib.use('TKAgg')\n",
    "import pandas as pd\n",
    "import psycopg2 as pg2\n",
    "import numpy as np\n",
    "import time as t\n",
    "from matplotlib.ticker import FuncFormatter"
   ]
  },
  {
   "cell_type": "markdown",
   "metadata": {},
   "source": [
    "Se inicializa la conexión con la DB"
   ]
  },
  {
   "cell_type": "code",
   "execution_count": 73,
   "metadata": {},
   "outputs": [],
   "source": [
    "conn = pg2.connect(host='localhost', dbname=\"sambilproyecto\", user=\"postgres\", password=\"1234\")\n",
    "cur = conn.cursor()"
   ]
  },
  {
   "cell_type": "markdown",
   "metadata": {},
   "source": [
    "Ahora unos resultados de vistas y gráficos:"
   ]
  },
  {
   "cell_type": "markdown",
   "metadata": {},
   "source": [
    "Vista Obligatoria 1: Porcentaje de ventas hecho a personas con smartphone y sin smartphone "
   ]
  },
  {
   "cell_type": "code",
   "execution_count": 106,
   "metadata": {
    "scrolled": false
   },
   "outputs": [
    {
     "data": {
      "image/png": "[encoded data removed]",
      "text/plain": [
       "<Figure size 400x200 with 1 Axes>"
      ]
     },
     "metadata": {},
     "output_type": "display_data"
    },
    {
     "data": {
      "text/html": [
       "<div>\n",
       "<style scoped>\n",
       "    .dataframe tbody tr th:only-of-type {\n",
       "        vertical-align: middle;\n",
       "    }\n",
       "\n",
       "    .dataframe tbody tr th {\n",
       "        vertical-align: top;\n",
       "    }\n",
       "\n",
       "    .dataframe thead th {\n",
       "        text-align: right;\n",
       "    }\n",
       "</style>\n",
       "<table border=\"1\" class=\"dataframe\">\n",
       "  <thead>\n",
       "    <tr style=\"text-align: right;\">\n",
       "      <th></th>\n",
       "      <th>Sin Smartphone</th>\n",
       "      <th>Con Smartphone</th>\n",
       "    </tr>\n",
       "  </thead>\n",
       "  <tbody>\n",
       "    <tr>\n",
       "      <th>0</th>\n",
       "      <td>19.90</td>\n",
       "      <td>80.10</td>\n",
       "    </tr>\n",
       "  </tbody>\n",
       "</table>\n",
       "</div>"
      ],
      "text/plain": [
       "  Sin Smartphone Con Smartphone\n",
       "0          19.90          80.10"
      ]
     },
     "execution_count": 106,
     "metadata": {},
     "output_type": "execute_result"
    }
   ],
   "source": [
    "cur.execute('SELECT * FROM porcentajeventassmartphone;')\n",
    "\n",
    "data=cur.fetchone()\n",
    "labels=('Sin Smartphone ('+str(data[0])+'%)','Con Smartphone ('+str(data[1])+'%)')\n",
    "\n",
    "y_pos = np.arange(len(labels))\n",
    "\n",
    "plt.rcdefaults()\n",
    "fig, ax = plt.subplots(figsize=(4,2))\n",
    "\n",
    "ax.barh(y_pos, data, height=0.5, align='center', color=['#FF0000','#33FF00'])\n",
    "ax.set_yticks(y_pos)\n",
    "ax.set_yticklabels(labels)\n",
    "ax.invert_yaxis()  # labels read top-to-bottom\n",
    "ax.set_xlabel('Porcentaje (%)')\n",
    "ax.set_title('Ventas a clientes con Smartphone')\n",
    "\n",
    "df = pd.DataFrame([data], columns=('Sin Smartphone','Con Smartphone'))\n",
    "\n",
    "plt.show()\n",
    "\n",
    "df"
   ]
  },
  {
   "cell_type": "markdown",
   "metadata": {},
   "source": [
    "Vista Obligatoria 2: Top 5 personas que más tiempo han pasado en el centro comercial en el último mes."
   ]
  },
  {
   "cell_type": "code",
   "execution_count": 105,
   "metadata": {
    "scrolled": true
   },
   "outputs": [
    {
     "data": {
      "text/html": [
       "<div>\n",
       "<style scoped>\n",
       "    .dataframe tbody tr th:only-of-type {\n",
       "        vertical-align: middle;\n",
       "    }\n",
       "\n",
       "    .dataframe tbody tr th {\n",
       "        vertical-align: top;\n",
       "    }\n",
       "\n",
       "    .dataframe thead th {\n",
       "        text-align: right;\n",
       "    }\n",
       "</style>\n",
       "<table border=\"1\" class=\"dataframe\">\n",
       "  <thead>\n",
       "    <tr style=\"text-align: right;\">\n",
       "      <th></th>\n",
       "      <th>0</th>\n",
       "      <th>1</th>\n",
       "    </tr>\n",
       "  </thead>\n",
       "  <tbody>\n",
       "    <tr>\n",
       "      <th>0</th>\n",
       "      <td>51</td>\n",
       "      <td>1 days 00:42:00</td>\n",
       "    </tr>\n",
       "    <tr>\n",
       "      <th>1</th>\n",
       "      <td>9</td>\n",
       "      <td>0 days 23:12:00</td>\n",
       "    </tr>\n",
       "    <tr>\n",
       "      <th>2</th>\n",
       "      <td>17</td>\n",
       "      <td>0 days 22:22:00</td>\n",
       "    </tr>\n",
       "    <tr>\n",
       "      <th>3</th>\n",
       "      <td>57</td>\n",
       "      <td>0 days 21:53:00</td>\n",
       "    </tr>\n",
       "    <tr>\n",
       "      <th>4</th>\n",
       "      <td>210</td>\n",
       "      <td>0 days 21:42:00</td>\n",
       "    </tr>\n",
       "  </tbody>\n",
       "</table>\n",
       "</div>"
      ],
      "text/plain": [
       "     0               1\n",
       "0   51 1 days 00:42:00\n",
       "1    9 0 days 23:12:00\n",
       "2   17 0 days 22:22:00\n",
       "3   57 0 days 21:53:00\n",
       "4  210 0 days 21:42:00"
      ]
     },
     "execution_count": 105,
     "metadata": {},
     "output_type": "execute_result"
    }
   ],
   "source": [
    "cur.execute(\"SELECT * FROM top5mastiempo;\")\n",
    "data = cur.fetchall()\n",
    "\n",
    "labels=('id de Smartphone','Tiempo en el CC')\n",
    "df = pd.DataFrame(data)\n",
    "\n",
    "df"
   ]
  },
  {
   "cell_type": "markdown",
   "metadata": {},
   "source": [
    "Vista Extra 1: Top 5 franquicias cuyos han facturado una mayor cantidad de compras en el último mes."
   ]
  },
  {
   "cell_type": "code",
   "execution_count": 118,
   "metadata": {
    "scrolled": true
   },
   "outputs": [
    {
     "data": {
      "image/png": "[encoded data removed]",
      "text/plain": [
       "<Figure size 640x480 with 1 Axes>"
      ]
     },
     "metadata": {},
     "output_type": "display_data"
    }
   ],
   "source": [
    "cur.execute(\"SELECT * FROM top5franquiciasventas;\")\n",
    "data = cur.fetchall()\n",
    "\n",
    "label = ('Franquicia','Ventas Totales')\n",
    "x = np.arange(len(data))\n",
    "montos = []\n",
    "franquicias = []\n",
    "\n",
    "for val in data:\n",
    "    montos.append(val[1])\n",
    "    franquicias.append(val[0])\n",
    "\n",
    "def miles(x, pos):\n",
    "    return '%1.1f' % ( x * 1e-3 )\n",
    "\n",
    "formatter = FuncFormatter(miles)\n",
    "\n",
    "fig, ax = plot.subplots()\n",
    "\n",
    "ax.yaxis.set_major_formatter(formatter)\n",
    "plt.bar(x, montos)\n",
    "plt.xticks(x, franquicias)\n",
    "\n",
    "ax.set_xlabel('Franquicias')\n",
    "ax.set_ylabel('Monto (Miles de bolívares)')\n",
    "ax.set_title('Cinco Franquicias Con Mayores Montos En Ventas')\n",
    "\n",
    "plt.show()"
   ]
  },
  {
   "cell_type": "markdown",
   "metadata": {},
   "source": [
    "Vista Extra 2: Mostrar por sector cual es el cliente que más tiempo ha pasado en uno de los locales de ese sector."
   ]
  },
  {
   "cell_type": "code",
   "execution_count": 122,
   "metadata": {
    "scrolled": true
   },
   "outputs": [
    {
     "data": {
      "text/html": [
       "<div>\n",
       "<style scoped>\n",
       "    .dataframe tbody tr th:only-of-type {\n",
       "        vertical-align: middle;\n",
       "    }\n",
       "\n",
       "    .dataframe tbody tr th {\n",
       "        vertical-align: top;\n",
       "    }\n",
       "\n",
       "    .dataframe thead th {\n",
       "        text-align: right;\n",
       "    }\n",
       "</style>\n",
       "<table border=\"1\" class=\"dataframe\">\n",
       "  <thead>\n",
       "    <tr style=\"text-align: right;\">\n",
       "      <th></th>\n",
       "      <th>Sector</th>\n",
       "      <th>Id Smartphone</th>\n",
       "      <th>Tiempo</th>\n",
       "    </tr>\n",
       "  </thead>\n",
       "  <tbody>\n",
       "    <tr>\n",
       "      <th>0</th>\n",
       "      <td>Plaza Venezuela</td>\n",
       "      <td>226</td>\n",
       "      <td>15:37:00</td>\n",
       "    </tr>\n",
       "    <tr>\n",
       "      <th>1</th>\n",
       "      <td>Plaza Colombia</td>\n",
       "      <td>31</td>\n",
       "      <td>15:33:00</td>\n",
       "    </tr>\n",
       "    <tr>\n",
       "      <th>2</th>\n",
       "      <td>Plaza Brasil</td>\n",
       "      <td>84</td>\n",
       "      <td>14:51:00</td>\n",
       "    </tr>\n",
       "  </tbody>\n",
       "</table>\n",
       "</div>"
      ],
      "text/plain": [
       "            Sector  Id Smartphone   Tiempo\n",
       "0  Plaza Venezuela            226 15:37:00\n",
       "1   Plaza Colombia             31 15:33:00\n",
       "2     Plaza Brasil             84 14:51:00"
      ]
     },
     "execution_count": 122,
     "metadata": {},
     "output_type": "execute_result"
    }
   ],
   "source": [
    "cur.execute(\"SELECT * FROM mastiempoporsector;\")\n",
    "\n",
    "data = cur.fetchall()\n",
    "labels = ('Sector','Id Smartphone','Tiempo')\n",
    "df = pd.DataFrame(data, columns=labels)\n",
    "\n",
    "df"
   ]
  },
  {
   "cell_type": "markdown",
   "metadata": {},
   "source": [
    "Las siguientes tres vistas (3,4 y 5) funcionan mientras el script está en ejecución"
   ]
  },
  {
   "cell_type": "markdown",
   "metadata": {},
   "source": [
    "Vista Extra 3: Cantidad de clientes en el centro comercial.\n",
    "Vista Extra 4: Cantidad de clientes sentados en mesas de la feria y dentro de locales"
   ]
  },
  {
   "cell_type": "code",
   "execution_count": 149,
   "metadata": {},
   "outputs": [
    {
     "data": {
      "image/png": "[encoded data removed]",
      "text/plain": [
       "<Figure size 640x480 with 1 Axes>"
      ]
     },
     "metadata": {},
     "output_type": "display_data"
    }
   ],
   "source": [
    "def animated_bar():\n",
    "    \n",
    "    N = 3\n",
    "    cur.execute(\"SELECT * FROM smartphonesencc;\")\n",
    "    incc = cur.fetchone()[0]\n",
    "    \n",
    "    cur.execute(\"SELECT * FROM enccenmesaoenlocal;\")\n",
    "    \n",
    "    response = cur.fetchone()\n",
    "    inlocal = response[0]\n",
    "    inmesa = response[1]\n",
    "    \n",
    "    x = (incc, inlocal, inmesa)\n",
    "    \n",
    "    bars = plt.bar(range(N), x, width=0.7, align='center')\n",
    "    for bar, h in zip(bars, x):\n",
    "        bar.set_height(h)\n",
    "    fig.canvas.draw()\n",
    "\n",
    "fig, ax = plot.subplots()\n",
    "x = np.arange(3)\n",
    "ax.set_ylabel('Cantidad de personas')\n",
    "plt.xticks(x, ('En el CC','En un local','Sentado en una mesa'))\n",
    "plt.show()\n",
    "\n",
    "i = 0\n",
    "\n",
    "while i < 20:\n",
    "    animated_bar()\n",
    "    i+=1\n",
    "    t.sleep(0.5)"
   ]
  },
  {
   "cell_type": "markdown",
   "metadata": {},
   "source": [
    "Vista Extra 5: Cantidad de mesas ocupadas"
   ]
  },
  {
   "cell_type": "code",
   "execution_count": 157,
   "metadata": {},
   "outputs": [
    {
     "data": {
      "text/html": [
       "<div>\n",
       "<style scoped>\n",
       "    .dataframe tbody tr th:only-of-type {\n",
       "        vertical-align: middle;\n",
       "    }\n",
       "\n",
       "    .dataframe tbody tr th {\n",
       "        vertical-align: top;\n",
       "    }\n",
       "\n",
       "    .dataframe thead th {\n",
       "        text-align: right;\n",
       "    }\n",
       "</style>\n",
       "<table border=\"1\" class=\"dataframe\">\n",
       "  <thead>\n",
       "    <tr style=\"text-align: right;\">\n",
       "      <th></th>\n",
       "      <th>0</th>\n",
       "    </tr>\n",
       "  </thead>\n",
       "  <tbody>\n",
       "    <tr>\n",
       "      <th>0</th>\n",
       "      <td>0</td>\n",
       "    </tr>\n",
       "  </tbody>\n",
       "</table>\n",
       "</div>"
      ],
      "text/plain": [
       "   0\n",
       "0  0"
      ]
     },
     "execution_count": 157,
     "metadata": {},
     "output_type": "execute_result"
    }
   ],
   "source": [
    "cur.execute(\"SELECT * FROM cantidadmesasocupadas;\")\n",
    "data = cur.fetchall()\n",
    "labels = ('Mesas ocupadas')\n",
    "\n",
    "df = pd.DataFrame(data)\n",
    "\n",
    "df"
   ]
  },
  {
   "cell_type": "markdown",
   "metadata": {},
   "source": [
    "Vista Extra 6: Top 5 franquicias cuyos locales generen mayor flujo de clientes"
   ]
  },
  {
   "cell_type": "code",
   "execution_count": 168,
   "metadata": {},
   "outputs": [
    {
     "data": {
      "image/png": "[encoded data removed]",
      "text/plain": [
       "<Figure size 640x480 with 1 Axes>"
      ]
     },
     "metadata": {},
     "output_type": "display_data"
    }
   ],
   "source": [
    "cur.execute(\"SELECT * FROM top5localesflujopersonas;\")\n",
    "\n",
    "data = cur.fetchall()\n",
    "\n",
    "label = ('Franquicia','Flujo de personas')\n",
    "x = np.arange(len(data))\n",
    "flujo = []\n",
    "franquicias = []\n",
    "\n",
    "for val in data:\n",
    "    flujo.append(val[1])\n",
    "    franquicias.append(val[0]+'\\n('+str(val[1])+')')\n",
    "\n",
    "fig, ax = plot.subplots()\n",
    "\n",
    "plt.bar(x, flujo)\n",
    "plt.xticks(x, franquicias)\n",
    "\n",
    "ax.set_xlabel('Franquicias')\n",
    "ax.set_ylabel('Flujo de personas')\n",
    "ax.set_title('Top 5 franquicias que generan mayor flujo de personas')\n",
    "\n",
    "plt.show()"
   ]
  },
  {
   "cell_type": "code",
   "execution_count": null,
   "metadata": {},
   "outputs": [],
   "source": []
  }
 ],
 "metadata": {
  "kernelspec": {
   "display_name": "Python 3",
   "language": "python",
   "name": "python3"
  },
  "language_info": {
   "codemirror_mode": {
    "name": "ipython",
    "version": 3
   },
   "file_extension": ".py",
   "mimetype": "text/x-python",
   "name": "python",
   "nbconvert_exporter": "python",
   "pygments_lexer": "ipython3",
   "version": "3.7.3"
  }
 },
 "nbformat": 4,
 "nbformat_minor": 2
}
